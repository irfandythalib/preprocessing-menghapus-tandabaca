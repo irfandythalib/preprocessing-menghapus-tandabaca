{
 "cells": [
  {
   "cell_type": "code",
   "execution_count": 2,
   "metadata": {},
   "outputs": [
    {
     "name": "stdout",
     "output_type": "stream",
     "text": [
      "ini   adalah percobaan        menghapus tanda baca pada     kalimat\n"
     ]
    }
   ],
   "source": [
    "import numpy as np\n",
    "symbols = \"!\\\"#$%&()*+-./:;<=>?@[\\]^_`{|}~\\n\"\n",
    "\n",
    "sentence = \"ini-= adalah percobaan ? * () menghapus tanda baca pada ^^* kalimat\"\n",
    "\n",
    "for i in symbols:\n",
    "    #print(sentence)\n",
    "    sentence = np.char.replace(sentence, i, ' ')\n",
    "\n",
    "print(sentence)"
   ]
  }
 ],
 "metadata": {
  "kernelspec": {
   "display_name": "Python 3",
   "language": "python",
   "name": "python3"
  },
  "language_info": {
   "codemirror_mode": {
    "name": "ipython",
    "version": 3
   },
   "file_extension": ".py",
   "mimetype": "text/x-python",
   "name": "python",
   "nbconvert_exporter": "python",
   "pygments_lexer": "ipython3",
   "version": "3.7.1"
  }
 },
 "nbformat": 4,
 "nbformat_minor": 2
}
